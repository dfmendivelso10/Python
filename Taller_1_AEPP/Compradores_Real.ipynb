{
 "cells": [
  {
   "cell_type": "code",
   "execution_count": 1,
   "metadata": {},
   "outputs": [],
   "source": [
    "# Paquetes\n",
    "\n",
    "import pandas as pd"
   ]
  },
  {
   "cell_type": "code",
   "execution_count": 2,
   "metadata": {},
   "outputs": [],
   "source": [
    "# DataFrame Compradores\n",
    "\n",
    "mercado_real_compra = pd.read_excel('/Users/daniel/Documents/Python/mercado_real_compra.xlsx')\n",
    "\n",
    "mercado_real_compra = pd.DataFrame(mercado_real_compra)\n"
   ]
  },
  {
   "cell_type": "code",
   "execution_count": 11,
   "metadata": {},
   "outputs": [],
   "source": [
    "# DataFrame Vendedores\n",
    "\n",
    "mercado_real_venta = pd.read_excel('/Users/daniel/Documents/Python/mercado_real_venta.xlsx')\n",
    "\n",
    "mercado_real_venta = pd.DataFrame(mercado_real_venta)"
   ]
  },
  {
   "cell_type": "code",
   "execution_count": 8,
   "metadata": {},
   "outputs": [],
   "source": [
    "# Def Oportunidades Compra\n",
    "\n",
    "def contar_oportunidades_compra(row, df):\n",
    "    # Contar cuántos valores en 'tranzado' son mayores o iguales al valor de 'precio' en la fila actual\n",
    "    return (df['tranzado'] > row['precio']).sum()\n"
   ]
  },
  {
   "cell_type": "code",
   "execution_count": 9,
   "metadata": {},
   "outputs": [
    {
     "name": "stdout",
     "output_type": "stream",
     "text": [
      "      ID  tranzado  precio  oportunidades\n",
      "0    1.0      49.0       0             33\n",
      "1    2.0      43.0       1             33\n",
      "2    3.0      41.0       2             33\n",
      "3    4.0      47.0       3             33\n",
      "4    5.0      41.0       4             33\n",
      "5    6.0      45.0       5             33\n",
      "6    7.0      45.0       6             33\n",
      "7    8.0      39.0       7             32\n",
      "8    9.0      45.0       8             30\n",
      "9   10.0      49.0       9             29\n",
      "10  11.0      41.0      10             29\n",
      "11   1.0      19.0      11             28\n",
      "12   2.0      25.0      12             28\n",
      "13   3.0      27.0      13             25\n",
      "14   4.0      21.0      14             25\n",
      "15   5.0      30.0      15             24\n",
      "16   6.0      23.0      16             24\n",
      "17   7.0      23.0      17             22\n",
      "18   8.0      29.0      18             22\n",
      "19   9.0      23.0      19             20\n",
      "20  10.0      19.0      20             20\n",
      "21  11.0      30.0      21             19\n",
      "22   1.0      17.0      22             19\n",
      "23   2.0      11.0      23             16\n",
      "24   3.0       9.0      24             16\n",
      "25   4.0      15.0      25             15\n",
      "26   5.0       8.0      26             15\n",
      "27   6.0      13.0      27             14\n",
      "28   7.0      13.0      28             14\n",
      "29   8.0       7.0      29             13\n",
      "30   9.0      13.0      30             11\n",
      "31  10.0      17.0      31             11\n",
      "32  11.0       8.0      32             11\n",
      "33   NaN       NaN      33             11\n",
      "34   NaN       NaN      34             11\n",
      "35   NaN       NaN      35             11\n",
      "36   NaN       NaN      36             11\n",
      "37   NaN       NaN      37             11\n",
      "38   NaN       NaN      38             11\n",
      "39   NaN       NaN      39             10\n",
      "40   NaN       NaN      40             10\n",
      "41   NaN       NaN      41              7\n",
      "42   NaN       NaN      42              7\n",
      "43   NaN       NaN      43              6\n",
      "44   NaN       NaN      44              6\n",
      "45   NaN       NaN      45              3\n",
      "46   NaN       NaN      46              3\n",
      "47   NaN       NaN      47              2\n",
      "48   NaN       NaN      48              2\n",
      "49   NaN       NaN      49              0\n",
      "50   NaN       NaN      50              0\n"
     ]
    }
   ],
   "source": [
    "# Conteo Compradores\n",
    "mercado_real_compra['oportunidades'] = mercado_real_compra.apply(lambda row: contar_oportunidades_compra(row, mercado_real_compra), axis=1)\n",
    "\n",
    "# Mostrar el DataFrame actualizado\n",
    "print(mercado_real_compra)"
   ]
  },
  {
   "cell_type": "code",
   "execution_count": 10,
   "metadata": {},
   "outputs": [],
   "source": [
    "\n",
    "# Exportamos Compradores\n",
    "\n",
    "mercado_real_compra.to_excel('mercado_real_demanda.xlsx', index=False, engine='openpyxl')"
   ]
  },
  {
   "cell_type": "code",
   "execution_count": 12,
   "metadata": {},
   "outputs": [],
   "source": [
    "# Def Oportunidades Venta\n",
    "\n",
    "def contar_oportunidades_venta(row, df):\n",
    "    # Contar cuántos valores en 'tranzado' son mayores o iguales al valor de 'precio' en la fila actual\n",
    "    return (df['tranzado'] < row['precio']).sum()\n"
   ]
  },
  {
   "cell_type": "code",
   "execution_count": 13,
   "metadata": {},
   "outputs": [
    {
     "name": "stdout",
     "output_type": "stream",
     "text": [
      "     ID  tranzado  precio  oportunidades\n",
      "0   1.0       3.0       0              0\n",
      "1   2.0       8.0       1              0\n",
      "2   3.0       6.0       2              0\n",
      "3   4.0       2.0       3              1\n",
      "4   5.0       7.0       4              3\n",
      "5   6.0       9.0       5              3\n",
      "6   7.0       3.0       6              3\n",
      "7   1.0      16.0       7              4\n",
      "8   2.0      11.0       8              5\n",
      "9   3.0      13.0       9              6\n",
      "10  4.0      17.0      10              7\n",
      "11  5.0      12.0      11              8\n",
      "12  6.0      10.0      12              9\n",
      "13  7.0      16.0      13             10\n",
      "14  1.0      19.0      14             11\n",
      "15  2.0      24.0      15             11\n",
      "16  3.0      22.0      16             11\n",
      "17  4.0      18.0      17             13\n",
      "18  5.0      23.0      18             14\n",
      "19  6.0      25.0      19             15\n",
      "20  7.0      19.0      20             17\n",
      "21  NaN       NaN      21             17\n",
      "22  NaN       NaN      22             17\n",
      "23  NaN       NaN      23             18\n",
      "24  NaN       NaN      24             19\n",
      "25  NaN       NaN      25             20\n",
      "26  NaN       NaN      26             21\n",
      "27  NaN       NaN      27             21\n",
      "28  NaN       NaN      28             21\n",
      "29  NaN       NaN      29             21\n",
      "30  NaN       NaN      30             21\n",
      "31  NaN       NaN      31             21\n",
      "32  NaN       NaN      32             21\n",
      "33  NaN       NaN      33             21\n",
      "34  NaN       NaN      34             21\n",
      "35  NaN       NaN      35             21\n",
      "36  NaN       NaN      36             21\n",
      "37  NaN       NaN      37             21\n",
      "38  NaN       NaN      38             21\n",
      "39  NaN       NaN      39             21\n",
      "40  NaN       NaN      40             21\n",
      "41  NaN       NaN      41             21\n",
      "42  NaN       NaN      42             21\n",
      "43  NaN       NaN      43             21\n",
      "44  NaN       NaN      44             21\n",
      "45  NaN       NaN      45             21\n",
      "46  NaN       NaN      46             21\n",
      "47  NaN       NaN      47             21\n",
      "48  NaN       NaN      48             21\n",
      "49  NaN       NaN      49             21\n",
      "50  NaN       NaN      50             21\n"
     ]
    }
   ],
   "source": [
    "# Conteo Vendedores\n",
    "\n",
    "mercado_real_venta['oportunidades'] = mercado_real_venta.apply(lambda row: contar_oportunidades_venta(row, mercado_real_venta), axis=1)\n",
    "\n",
    "mercado_real_venta_ = mercado_real_venta.sort_values(by=['precio'], ascending=[True])\n",
    "\n",
    "\n",
    "# Mostrar el DataFrame actualizado\n",
    "print(mercado_real_venta)"
   ]
  },
  {
   "cell_type": "code",
   "execution_count": 15,
   "metadata": {},
   "outputs": [],
   "source": [
    "\n",
    "# Exportamos Vendedores\n",
    "\n",
    "mercado_real_venta.to_excel('mercado_real_oferta.xlsx', index=False, engine='openpyxl')"
   ]
  }
 ],
 "metadata": {
  "kernelspec": {
   "display_name": "myenv",
   "language": "python",
   "name": "python3"
  },
  "language_info": {
   "codemirror_mode": {
    "name": "ipython",
    "version": 3
   },
   "file_extension": ".py",
   "mimetype": "text/x-python",
   "name": "python",
   "nbconvert_exporter": "python",
   "pygments_lexer": "ipython3",
   "version": "3.9.6"
  }
 },
 "nbformat": 4,
 "nbformat_minor": 2
}
