{
 "cells": [
  {
   "cell_type": "code",
   "execution_count": 1,
   "metadata": {},
   "outputs": [],
   "source": [
    "import pandas as pd\n",
    "\n"
   ]
  },
  {
   "cell_type": "code",
   "execution_count": 2,
   "metadata": {},
   "outputs": [],
   "source": [
    "BP_compradores = pd.read_excel('/Users/daniel/Documents/Base_Prueba.xlsx')"
   ]
  },
  {
   "cell_type": "code",
   "execution_count": 3,
   "metadata": {},
   "outputs": [],
   "source": [
    "\n",
    "\n",
    "# Def Oportunidades Compra\n",
    "\n",
    "def contar_oportunidades_compra(row, df):\n",
    "    # Contar cuántos valores en 'tranzado' son mayores o iguales al valor de 'precio' en la fila actual\n",
    "    return (df['nueva_variable'] > row['precio']).sum()\n",
    "\n"
   ]
  },
  {
   "cell_type": "code",
   "execution_count": 20,
   "metadata": {},
   "outputs": [
    {
     "name": "stdout",
     "output_type": "stream",
     "text": [
      "                               mail           id  periodo_juego  \\\n",
      "0       rodriguezjpablo19@gmail.com            6              1   \n",
      "1               jdtolozad@gmail.com            9              1   \n",
      "2          santiagobg1995@gmail.com  Comprador 3              1   \n",
      "3              juseth0208@gmail.com            5              1   \n",
      "4    lauravalentinalopezb@gmail.com           11              1   \n",
      "..                              ...          ...            ...   \n",
      "166           cortesalarn@gmail.com            4              5   \n",
      "167  lauravalentinalopezb@gmail.com           11              5   \n",
      "168        andresmorenoez@gmail.com            7              5   \n",
      "169             jdcorpa94@gmail.com           10              5   \n",
      "170       juanperez200700@gmail.com            8              5   \n",
      "\n",
      "    variable_original  nueva_variable  precio  tranzado  \n",
      "0                 p_1            13.0     0.0       110  \n",
      "1                 p_1            25.0     1.0       110  \n",
      "2                 p_1            20.0     2.0       110  \n",
      "3                 p_1             9.0     3.0       107  \n",
      "4                 p_1            21.0     4.0       107  \n",
      "..                ...             ...     ...       ...  \n",
      "166               p_3            26.0     NaN         0  \n",
      "167               p_3             NaN     NaN         0  \n",
      "168               p_3             NaN     NaN         0  \n",
      "169               p_3             NaN     NaN         0  \n",
      "170               p_3             NaN     NaN         0  \n",
      "\n",
      "[171 rows x 7 columns]\n"
     ]
    }
   ],
   "source": [
    "# Conteo Compradores\n",
    "BP_compradores ['tranzado'] = BP_compradores .apply(lambda row: contar_oportunidades_compra(row, BP_compradores ), axis=1)\n",
    "\n",
    "# Mostrar el DataFrame actualizado\n",
    "print(BP_compradores)"
   ]
  },
  {
   "cell_type": "code",
   "execution_count": 21,
   "metadata": {},
   "outputs": [],
   "source": [
    "# Exportamos\n",
    "\n",
    "BP_compradores.to_excel('BP.xlsx')"
   ]
  },
  {
   "cell_type": "markdown",
   "metadata": {},
   "source": [
    "# Ahora Vendedores Oferta\n"
   ]
  },
  {
   "cell_type": "code",
   "execution_count": 5,
   "metadata": {},
   "outputs": [],
   "source": [
    "# Vamos a Importar los Datos\n",
    "\n",
    "BP_vendedores = pd.read_excel('/Users/daniel/Documents/Base_Prueba_2.xlsx')\n"
   ]
  },
  {
   "cell_type": "code",
   "execution_count": 6,
   "metadata": {},
   "outputs": [
    {
     "name": "stdout",
     "output_type": "stream",
     "text": [
      "                     mail  id  periodo_juego variable_original nueva_variable\n",
      "0       reruizc@gmail.com   1              1               p_1              6\n",
      "1       reruizc@gmail.com   1              1               p_1             10\n",
      "2  arturoharker@gmail.com   7              1               p_1             20\n",
      "3    jalejonino@gmail.com   3              1               p_1             20\n",
      "4       reruizc@gmail.com   1              1               p_1             14\n"
     ]
    }
   ],
   "source": [
    "# De Wide a Long\n",
    "\n",
    "\n",
    "BP_vendedores = BP_vendedores.melt(id_vars=['mail', 'id', 'periodo_juego'],  # preservamos estas columnas\n",
    "                                    value_vars=['p_1', 'p_2', 'p_3'],  # estas son las que convertimos a formato largo\n",
    "                                    var_name='variable_original',  # nombre de la nueva columna para las variables originales\n",
    "                                    value_name='nueva_variable')  # nombre de la nueva columna para los valores\n",
    "\n",
    "# Mostrar el resultado para verificar\n",
    "print(BP_vendedores.head())\n"
   ]
  },
  {
   "cell_type": "code",
   "execution_count": 7,
   "metadata": {},
   "outputs": [],
   "source": [
    "# Exportamos\n",
    "\n",
    "BP_vendedores.to_excel('Base_Prueba2.xlsx')"
   ]
  },
  {
   "cell_type": "code",
   "execution_count": 9,
   "metadata": {},
   "outputs": [],
   "source": [
    "\n",
    "BP_vendedores = pd.read_excel('/Users/daniel/Documents/Python/Base_Prueba2.xlsx')"
   ]
  },
  {
   "cell_type": "code",
   "execution_count": 14,
   "metadata": {},
   "outputs": [],
   "source": [
    "def contar_oportunidades_venta(row, df):\n",
    "    # Filtrar solo los valores numéricos en 'nueva_variable' y hacer la comparación\n",
    "    return sum(float(x) < row['precio'] for x in df['nueva_variable'] if isinstance(x, (int, float)))\n",
    "\n",
    "# Aplicar la función al DataFrame\n",
    "BP_vendedores['oportunidades'] = BP_vendedores.apply(lambda row: contar_oportunidades_venta(row, BP_vendedores), axis=1)\n",
    "\n",
    "\n"
   ]
  },
  {
   "cell_type": "code",
   "execution_count": 15,
   "metadata": {},
   "outputs": [
    {
     "name": "stdout",
     "output_type": "stream",
     "text": [
      "     Unnamed: 0                        mail  id  periodo_juego  \\\n",
      "0             0           reruizc@gmail.com   1              1   \n",
      "1             1           reruizc@gmail.com   1              1   \n",
      "2             2      arturoharker@gmail.com   7              1   \n",
      "3             3        jalejonino@gmail.com   3              1   \n",
      "4             4           reruizc@gmail.com   1              1   \n",
      "..          ...                         ...  ..            ...   \n",
      "178         178  m.camilabermejob@gmail.com   2              8   \n",
      "179         179        jalejonino@gmail.com   3              8   \n",
      "180         180           reruizc@gmail.com   1              9   \n",
      "181         181     maira.cortesp@gmail.com   4              9   \n",
      "182         182     maira.cortesp@gmail.com   4             10   \n",
      "\n",
      "    variable_original nueva_variable  precio  oportunidades  \n",
      "0                 p_1              6     0.0              0  \n",
      "1                 p_1             10     1.0             18  \n",
      "2                 p_1             20     2.0             18  \n",
      "3                 p_1             20     3.0             18  \n",
      "4                 p_1             14     4.0             18  \n",
      "..                ...            ...     ...            ...  \n",
      "178               p_3             23     NaN              0  \n",
      "179               p_3              .     NaN              0  \n",
      "180               p_3             31     NaN              0  \n",
      "181               p_3              .     NaN              0  \n",
      "182               p_3             35     NaN              0  \n",
      "\n",
      "[183 rows x 8 columns]\n"
     ]
    }
   ],
   "source": [
    "# Conteo Compradores\n",
    "BP_vendedores['oportunidades'] = BP_vendedores.apply(lambda row: contar_oportunidades_venta(row, BP_vendedores), axis=1)\n",
    "\n",
    "# Mostrar el DataFrame actualizado\n",
    "print(BP_vendedores)"
   ]
  },
  {
   "cell_type": "code",
   "execution_count": 16,
   "metadata": {},
   "outputs": [],
   "source": [
    "# Exportamos\n",
    "\n",
    "BP_vendedores.to_excel('BP_2.xlsx')"
   ]
  }
 ],
 "metadata": {
  "kernelspec": {
   "display_name": "myenv",
   "language": "python",
   "name": "python3"
  },
  "language_info": {
   "codemirror_mode": {
    "name": "ipython",
    "version": 3
   },
   "file_extension": ".py",
   "mimetype": "text/x-python",
   "name": "python",
   "nbconvert_exporter": "python",
   "pygments_lexer": "ipython3",
   "version": "3.9.6"
  }
 },
 "nbformat": 4,
 "nbformat_minor": 2
}
