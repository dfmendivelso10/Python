{
 "cells": [
  {
   "cell_type": "markdown",
   "metadata": {},
   "source": [
    "# Construcción Oferta & Demanda\n"
   ]
  },
  {
   "cell_type": "markdown",
   "metadata": {},
   "source": [
    "# Demanda"
   ]
  },
  {
   "cell_type": "code",
   "execution_count": 1,
   "metadata": {},
   "outputs": [],
   "source": [
    "# Paquetes\n",
    "\n",
    "import pandas as pd"
   ]
  },
  {
   "cell_type": "code",
   "execution_count": 2,
   "metadata": {},
   "outputs": [],
   "source": [
    "# DataFrame Demanda\n",
    "\n",
    "demanda = pd.read_excel('/Users/daniel/Documents/compradores2.xlsx')\n",
    "\n",
    "demanda = pd.DataFrame(demanda)\n"
   ]
  },
  {
   "cell_type": "code",
   "execution_count": 6,
   "metadata": {},
   "outputs": [
    {
     "name": "stdout",
     "output_type": "stream",
     "text": [
      "     periodo_juego variable_original  nueva_variable  precio  conteo_mayores\n",
      "0                1               p_1            13.0     0.0             159\n",
      "1                1               p_1            25.0     1.0             159\n",
      "2                1               p_1            20.0     2.0             159\n",
      "3                1               p_1             9.0     3.0             156\n",
      "4                1               p_1            21.0     4.0             156\n",
      "..             ...               ...             ...     ...             ...\n",
      "319             10               p_3             NaN     NaN               0\n",
      "320             10               p_3             NaN     NaN               0\n",
      "321             10               p_3             NaN     NaN               0\n",
      "322             10               p_3             NaN     NaN               0\n",
      "323             10               p_3             NaN     NaN               0\n",
      "\n",
      "[324 rows x 5 columns]\n"
     ]
    }
   ],
   "source": [
    "# Convertir las columnas relevantes a numéricas, ignorando errores para manejar los valores no numéricos como '.'.\n",
    "demanda['nueva_variable'] = pd.to_numeric(demanda['nueva_variable'], errors='coerce')\n",
    "\n",
    "# Crear una nueva columna que almacene la suma de observaciones mayores a 'precio'\n",
    "compradores = demanda.apply(lambda row: (demanda['nueva_variable'] > row['precio']).sum(), axis=1)\n",
    "\n",
    "# Añadir esta nueva columna al DataFrame original\n",
    "demanda['conteo_mayores'] = compradores\n",
    "\n",
    "# Mostrar el resultado final\n",
    "print(demanda)"
   ]
  },
  {
   "cell_type": "code",
   "execution_count": 7,
   "metadata": {},
   "outputs": [],
   "source": [
    "\n",
    "# Exportamos Compradores\n",
    "\n",
    "demanda.to_excel('compradores3.xlsx', index=False, engine='openpyxl')"
   ]
  },
  {
   "cell_type": "markdown",
   "metadata": {},
   "source": [
    "# Oferta"
   ]
  },
  {
   "cell_type": "code",
   "execution_count": 9,
   "metadata": {},
   "outputs": [],
   "source": [
    "# DataFrame Oferta\n",
    "\n",
    "oferta = pd.read_excel('/Users/daniel/Documents/vendedores2.xlsx')\n",
    "\n",
    "oferta = pd.DataFrame(oferta)"
   ]
  },
  {
   "cell_type": "code",
   "execution_count": 11,
   "metadata": {},
   "outputs": [
    {
     "name": "stdout",
     "output_type": "stream",
     "text": [
      "     periodo_juego variable_original  nueva_variable  precio  conteo_mayores\n",
      "0                1               p_1             6.0     0.0               0\n",
      "1                1               p_1            10.0     1.0              18\n",
      "2                1               p_1            20.0     2.0              18\n",
      "3                1               p_1            20.0     3.0              18\n",
      "4                1               p_1            14.0     4.0              18\n",
      "..             ...               ...             ...     ...             ...\n",
      "178              9               p_3            31.0     NaN               0\n",
      "179              9               p_3             NaN     NaN               0\n",
      "180             10               p_1            44.0     NaN               0\n",
      "181             10               p_2            38.0     NaN               0\n",
      "182             10               p_3            35.0     NaN               0\n",
      "\n",
      "[183 rows x 5 columns]\n"
     ]
    }
   ],
   "source": [
    "# Convertir las columnas relevantes a numéricas, ignorando errores para manejar los valores no numéricos como '.'.\n",
    "oferta['nueva_variable'] = pd.to_numeric(oferta['nueva_variable'], errors='coerce')\n",
    "\n",
    "# Crear una nueva columna que almacene la suma de observaciones mayores a 'precio'\n",
    "compradores = oferta.apply(lambda row: (oferta['nueva_variable'] < row['precio']).sum(), axis=1)\n",
    "\n",
    "# Añadir esta nueva columna al DataFrame original\n",
    "oferta['conteo_mayores'] = compradores\n",
    "\n",
    "# Mostrar el resultado final\n",
    "print(oferta)"
   ]
  },
  {
   "cell_type": "code",
   "execution_count": 12,
   "metadata": {},
   "outputs": [],
   "source": [
    "# Exportamos Vendedores\n",
    "\n",
    "oferta.to_excel('vendedores3.xlsx', index=False, engine='openpyxl')"
   ]
  }
 ],
 "metadata": {
  "kernelspec": {
   "display_name": "myenv",
   "language": "python",
   "name": "python3"
  },
  "language_info": {
   "codemirror_mode": {
    "name": "ipython",
    "version": 3
   },
   "file_extension": ".py",
   "mimetype": "text/x-python",
   "name": "python",
   "nbconvert_exporter": "python",
   "pygments_lexer": "ipython3",
   "version": "3.9.6"
  }
 },
 "nbformat": 4,
 "nbformat_minor": 2
}
