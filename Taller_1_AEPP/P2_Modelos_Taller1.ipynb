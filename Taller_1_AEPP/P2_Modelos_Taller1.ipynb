{
 "cells": [
  {
   "cell_type": "markdown",
   "metadata": {},
   "source": [
    "# Limpieza Base de Datos - Compradores y Vendedores"
   ]
  },
  {
   "cell_type": "code",
   "execution_count": 1,
   "metadata": {},
   "outputs": [],
   "source": [
    "# Librerías\n",
    "\n",
    "import pandas as pd\n"
   ]
  },
  {
   "cell_type": "code",
   "execution_count": 2,
   "metadata": {},
   "outputs": [],
   "source": [
    "# Vamos a Importar los Datos\n",
    "\n",
    "compradores = pd.read_excel('/Users/daniel/Downloads/Formulario_Demanda.xlsx')\n"
   ]
  },
  {
   "cell_type": "code",
   "execution_count": 3,
   "metadata": {},
   "outputs": [
    {
     "name": "stdout",
     "output_type": "stream",
     "text": [
      "   periodo_juego variable_original nueva_variable\n",
      "0              1               p_1             13\n",
      "1              1               p_1             25\n",
      "2              1               p_1             20\n",
      "3              1               p_1              9\n",
      "4              1               p_1             21\n"
     ]
    }
   ],
   "source": [
    "\n",
    "# De Wide a Long\n",
    "\n",
    "\n",
    "compradores = compradores.melt(id_vars=['periodo_juego'],  # preservamos estas columnas\n",
    "                                    value_vars=['p_1', 'p_2', 'p_3'],  # estas son las que convertimos a formato largo\n",
    "                                    var_name='variable_original',  # nombre de la nueva columna para las variables originales\n",
    "                                    value_name='nueva_variable')  # nombre de la nueva columna para los valores\n",
    "\n",
    "# Mostrar el resultado para verificar\n",
    "print(compradores.head())\n",
    "\n",
    "\n"
   ]
  },
  {
   "cell_type": "markdown",
   "metadata": {},
   "source": [
    "## Oferta\n"
   ]
  },
  {
   "cell_type": "code",
   "execution_count": 4,
   "metadata": {},
   "outputs": [],
   "source": [
    "# Vamos a Importar los Datos\n",
    "\n",
    "vendedores = pd.read_excel('/Users/daniel/Downloads/Formulario_Oferta.xlsx')"
   ]
  },
  {
   "cell_type": "code",
   "execution_count": 5,
   "metadata": {},
   "outputs": [
    {
     "name": "stdout",
     "output_type": "stream",
     "text": [
      "   periodo_juego variable_original nueva_variable\n",
      "0              1               p_1              6\n",
      "1              1               p_1             10\n",
      "2              1               p_1             20\n",
      "3              1               p_1             20\n",
      "4              1               p_1             14\n"
     ]
    }
   ],
   "source": [
    "\n",
    "# De Wide a Long\n",
    "\n",
    "\n",
    "vendedores = vendedores.melt(id_vars=['periodo_juego'],  # preservamos estas columnas\n",
    "                                    value_vars=['p_1', 'p_2', 'p_3'],  # estas son las que convertimos a formato largo\n",
    "                                    var_name='variable_original',  # nombre de la nueva columna para las variables originales\n",
    "                                    value_name='nueva_variable')  # nombre de la nueva columna para los valores\n",
    "\n",
    "# Mostrar el resultado para verificar\n",
    "print(vendedores.head())\n",
    "\n"
   ]
  },
  {
   "cell_type": "markdown",
   "metadata": {},
   "source": [
    "# Cálculos Importantes"
   ]
  },
  {
   "cell_type": "code",
   "execution_count": 6,
   "metadata": {},
   "outputs": [],
   "source": [
    "# Ordenamos el Dataset\n",
    "\n",
    "compradores = compradores.sort_values(by=['periodo_juego', 'variable_original'])\n",
    "\n",
    "\n",
    "compradores.to_excel('compradores.xlsx', index=False, engine='openpyxl')"
   ]
  },
  {
   "cell_type": "code",
   "execution_count": 14,
   "metadata": {},
   "outputs": [
    {
     "name": "stdout",
     "output_type": "stream",
     "text": [
      "   periodo_juego  nueva_variable\n",
      "0              1              23\n",
      "1              2              21\n",
      "2              3              24\n",
      "3              4              20\n",
      "4              5              22\n",
      "5              6              13\n",
      "6              7              14\n",
      "7              8              16\n",
      "8              9               3\n",
      "9             10               3\n"
     ]
    }
   ],
   "source": [
    "# Contamos ahora los Valores\n",
    "\n",
    "# Función para contar valores que no son ni N/A ni 0\n",
    "def contar_valores_no_cero_na(serie):\n",
    "    return serie[serie.notna() & (serie != 0) & (serie != '.')].count()\n",
    "\n",
    "# Agrupar por 'periodo_juego' y aplicar la función definida\n",
    "conteo_valores = compradores.groupby('periodo_juego')['nueva_variable'].apply(contar_valores_no_cero_na).reset_index()\n",
    "\n",
    "\n",
    "conteo_valores.to_excel('conteo_valores.xlsx', index=False, engine='openpyxl')\n",
    "print(conteo_valores)"
   ]
  },
  {
   "cell_type": "code",
   "execution_count": 8,
   "metadata": {},
   "outputs": [
    {
     "name": "stdout",
     "output_type": "stream",
     "text": [
      "   periodo_juego  nueva_variable\n",
      "0              1       18.869565\n",
      "1              2       18.857143\n",
      "2              3       18.041667\n",
      "3              4       20.200000\n",
      "4              5       22.363636\n",
      "5              6       15.461538\n",
      "6              7       15.000000\n",
      "7              8       15.812500\n",
      "8              9       35.666667\n",
      "9             10       38.333333\n"
     ]
    }
   ],
   "source": [
    "# Convertir la columna 'nueva_variable' a numérico, tratando los no convertibles a NaN\n",
    "compradores['nueva_variable'] = pd.to_numeric(compradores['nueva_variable'], errors='coerce')\n",
    "\n",
    "# Ahora intentar calcular el promedio agrupado\n",
    "promedios = compradores.groupby('periodo_juego')['nueva_variable'].mean().reset_index()\n",
    "\n",
    "# Mostrar los promedios\n",
    "print(promedios)\n",
    "\n",
    "promedios.to_excel('promedios.xlsx', index=False, engine='openpyxl')"
   ]
  },
  {
   "cell_type": "code",
   "execution_count": 9,
   "metadata": {},
   "outputs": [
    {
     "name": "stdout",
     "output_type": "stream",
     "text": [
      "   periodo_juego  desviacion_estandar\n",
      "0              1             6.166658\n",
      "1              2             5.943784\n",
      "2              3             9.115105\n",
      "3              4             7.045715\n",
      "4              5             5.057248\n",
      "5              6             0.776250\n",
      "6              7             2.882307\n",
      "7              8             2.227667\n",
      "8              9             4.509250\n",
      "9             10             4.932883\n"
     ]
    }
   ],
   "source": [
    "# Desviación Estandar\n",
    "\n",
    "# Agrupar los datos por 'periodo_juego' y calcular la desviación estándar para cada grupo\n",
    "desviacion_estandar = compradores.groupby('periodo_juego')['nueva_variable'].std().reset_index()\n",
    "\n",
    "# Renombrar las columnas para claridad\n",
    "desviacion_estandar.columns = ['periodo_juego', 'desviacion_estandar']\n",
    "\n",
    "# Mostrar el nuevo DataFrame\n",
    "print(desviacion_estandar)\n",
    "\n",
    "desviacion_estandar.to_excel('desviacion_estandar.xlsx', index=False, engine='openpyxl')"
   ]
  }
 ],
 "metadata": {
  "kernelspec": {
   "display_name": "myenv",
   "language": "python",
   "name": "python3"
  },
  "language_info": {
   "codemirror_mode": {
    "name": "ipython",
    "version": 3
   },
   "file_extension": ".py",
   "mimetype": "text/x-python",
   "name": "python",
   "nbconvert_exporter": "python",
   "pygments_lexer": "ipython3",
   "version": "3.9.6"
  }
 },
 "nbformat": 4,
 "nbformat_minor": 2
}
